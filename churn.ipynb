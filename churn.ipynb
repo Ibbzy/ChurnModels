{
 "cells": [
  {
   "cell_type": "code",
   "execution_count": 18,
   "metadata": {},
   "outputs": [],
   "source": [
    "# Ibrahim Said\n",
    "\n",
    "# Churn Modelling\n",
    "\n",
    "# import pandas and numpy\n",
    "import numpy as np\n",
    "import pandas as pd\n",
    "import os\n",
    "import xgboost as xgb\n",
    "\n",
    "# import models from sci-kit learn\n",
    "\n",
    "from sklearn import cross_validation\n",
    "from sklearn import tree\n",
    "from sklearn import linear_model as lm\n",
    "from sklearn import metrics\n",
    "from sklearn import preprocessing\n",
    "from sklearn.ensemble import RandomForestClassifier\n",
    "    "
   ]
  },
  {
   "cell_type": "code",
   "execution_count": 19,
   "metadata": {},
   "outputs": [],
   "source": [
    "# Part I - ETL - Data processing\n",
    "# Clarification: cus = customer, rec = receipt, ret = return\n",
    "\n",
    "# Defining headers\n",
    "cusHeader = [\"customerId\",\"gender\",\"shippingCountry\",\"dateCreated\",\"yearOfBirth\",\"premier\",\"churn\"]\n",
    "recHeader = [\"customerId\",\"productId\",\"divisionId\",\"discountDesc\",\"itemQty\",\"signalDate\",\"receiptId\",\"price\"]\n",
    "retHeader = [\"customerId\",\"productId\",\"divisionId\",\"itemQty\",\"returnsDate\",\"receiptId\",\"returnId\",\"returnAction\",\"returnReason\"]\n",
    "\n",
    "\n",
    "# Reading training datasets\n",
    "cusData = pd.read_csv(\"train/customer.txt\", sep='\\t', lineterminator='\\n',names=cusHeader)\n",
    "recData = pd.read_csv(\"train/receipts.txt\", sep='\\t', lineterminator='\\n',names=recHeader)\n",
    "retData = pd.read_csv(\"train/returns.txt\", sep='\\t', lineterminator='\\n',names=retHeader)\n",
    "\n",
    "# Reading holdout datasets\n",
    "cusDatah = pd.read_csv(\"holdout/customer.txt\", sep='\\t', lineterminator='\\n',names=cusHeader)\n",
    "recDatah = pd.read_csv(\"holdout/receipts.txt\", sep='\\t', lineterminator='\\n',names=recHeader)\n",
    "retDatah = pd.read_csv(\"holdout/returns.txt\", sep='\\t', lineterminator='\\n',names=retHeader)\n",
    "\n",
    "\n",
    "\n",
    "\n"
   ]
  },
  {
   "cell_type": "code",
   "execution_count": 20,
   "metadata": {},
   "outputs": [],
   "source": [
    "\n",
    "\n",
    "\n",
    "    \n",
    "def prep(cusData,recData,retData,tr=True):\n",
    "    \n",
    "    # Encoding country names and gender as unique integers\n",
    "    encoder = preprocessing.LabelEncoder()\n",
    "    cusData[\"shippingCountry\"] = encoder.fit_transform(cusData[\"shippingCountry\"])\n",
    "    cusData[\"gender\"] = encoder.fit_transform(cusData[\"gender\"])\n",
    "\n",
    "    # Parsing dates\n",
    "    cusData[\"dateCreated\"] = pd.to_datetime(cusData[\"dateCreated\"])\n",
    "    retData[\"returnsDate\"] = pd.to_datetime(retData[\"returnsDate\"])\n",
    "    recData.signalDate = pd.to_datetime(recData.signalDate.astype(str), format='%Y%m%d')\n",
    "    recData.signalDate = (max(recData.signalDate)-recData.signalDate).dt.days\n",
    "    \n",
    "    # Number of purchases and number of returns \n",
    "    # and total sales(excluding returns atm) is calculated for each customer.\n",
    "    \n",
    "    recCount = recData[[\"customerId\",\"productId\"]].groupby(\"customerId\").agg(\"count\")\n",
    "    recSum = recData[[\"customerId\",\"price\"]].groupby(\"customerId\").agg(\"sum\")\n",
    "    recItems = recData[[\"customerId\",\"itemQty\"]].groupby(\"customerId\").agg(\"sum\")\n",
    "    retCount = retData[[\"customerId\",\"productId\"]].groupby(\"customerId\").agg(\"count\")\n",
    "    recDate = recData[['customerId','signalDate']].groupby(\"customerId\")\n",
    "    recVar = recDate.var(ddof=1).fillna(0)\n",
    "    recLast = recDate.min()\n",
    "\n",
    "\n",
    "    #Fixing indices\n",
    "    recCount[\"customerId\"] = recCount.index\n",
    "    recSum[\"customerId\"] = recSum.index\n",
    "    recItems[\"customerId\"] = recItems.index\n",
    "    retCount[\"customerId\"] = retCount.index\n",
    "    recVar[\"customerId\"] = recVar.index\n",
    "    recLast[\"customerId\"] = recLast.index\n",
    "    df = cusData.copy()\n",
    "\n",
    "    #Adding columns receipt count, receipt sum and return count\n",
    "    df = pd.merge(df,recLast,how=\"left\",on=\"customerId\")\n",
    "    df = pd.merge(df,recItems,how=\"left\",on=\"customerId\")\n",
    "    df = pd.merge(df,recSum,how=\"left\",on=\"customerId\")\n",
    "    df = pd.merge(df,retCount,how=\"left\",on=\"customerId\")\n",
    "    df = pd.merge(df,recVar,how=\"left\",on=\"customerId\")\n",
    "\n",
    "    #re-labling columns\n",
    "    new_columns = df.columns.values\n",
    "    new_columns[-5] = 'time since latest purchase'\n",
    "    new_columns[-4] = 'NoPurchases'\n",
    "    new_columns[-3] = 'sales'\n",
    "    new_columns[-2] = 'NoReturns'\n",
    "    new_columns[-1] = 'var of dates'\n",
    "    df.columns = new_columns\n",
    "    df[\"NoReturns\"] = df[\"NoReturns\"].fillna(0)\n",
    "    df[\"NoItems\"] = df[\"NoPurchases\"].sub(df[\"NoReturns\"])\n",
    "\n",
    "\n",
    "    X = df.copy()\n",
    "    if tr == True:\n",
    "        y = X.churn\n",
    "        \n",
    "        # Dropping columns which will not be used\n",
    "\n",
    "        X.drop([\"customerId\",\"dateCreated\", \"churn\",\"NoReturns\"],axis=1,inplace=True)\n",
    "   \n",
    "        return X,y\n",
    "    else:\n",
    "        X.drop([\"customerId\",\"dateCreated\", \"churn\",\"NoReturns\"],axis=1,inplace=True)\n",
    "        return X\n",
    "\n",
    "X,y = prep(cusData,recData,retData,tr=True)\n",
    "Xh = prep(cusDatah,recDatah,retDatah, tr=False)"
   ]
  },
  {
   "cell_type": "code",
   "execution_count": 22,
   "metadata": {},
   "outputs": [
    {
     "data": {
      "text/plain": [
       "1    117061\n",
       "2    104127\n",
       "Name: churn, dtype: int64"
      ]
     },
     "execution_count": 22,
     "metadata": {},
     "output_type": "execute_result"
    }
   ],
   "source": [
    "# Distributions of churns\n",
    "y.value_counts()\n"
   ]
  },
  {
   "cell_type": "code",
   "execution_count": 24,
   "metadata": {},
   "outputs": [
    {
     "name": "stderr",
     "output_type": "stream",
     "text": [
      "/home/ibbzy/anaconda2/lib/python2.7/site-packages/sklearn/preprocessing/label.py:151: DeprecationWarning: The truth value of an empty array is ambiguous. Returning False, but in future this will result in an error. Use `array.size > 0` to check that an array is not empty.\n",
      "  if diff:\n",
      "/home/ibbzy/anaconda2/lib/python2.7/site-packages/sklearn/preprocessing/label.py:151: DeprecationWarning: The truth value of an empty array is ambiguous. Returning False, but in future this will result in an error. Use `array.size > 0` to check that an array is not empty.\n",
      "  if diff:\n",
      "/home/ibbzy/anaconda2/lib/python2.7/site-packages/sklearn/preprocessing/label.py:151: DeprecationWarning: The truth value of an empty array is ambiguous. Returning False, but in future this will result in an error. Use `array.size > 0` to check that an array is not empty.\n",
      "  if diff:\n",
      "/home/ibbzy/anaconda2/lib/python2.7/site-packages/sklearn/preprocessing/label.py:151: DeprecationWarning: The truth value of an empty array is ambiguous. Returning False, but in future this will result in an error. Use `array.size > 0` to check that an array is not empty.\n",
      "  if diff:\n",
      "/home/ibbzy/anaconda2/lib/python2.7/site-packages/sklearn/preprocessing/label.py:151: DeprecationWarning: The truth value of an empty array is ambiguous. Returning False, but in future this will result in an error. Use `array.size > 0` to check that an array is not empty.\n",
      "  if diff:\n",
      "/home/ibbzy/anaconda2/lib/python2.7/site-packages/sklearn/preprocessing/label.py:151: DeprecationWarning: The truth value of an empty array is ambiguous. Returning False, but in future this will result in an error. Use `array.size > 0` to check that an array is not empty.\n",
      "  if diff:\n",
      "/home/ibbzy/anaconda2/lib/python2.7/site-packages/sklearn/preprocessing/label.py:151: DeprecationWarning: The truth value of an empty array is ambiguous. Returning False, but in future this will result in an error. Use `array.size > 0` to check that an array is not empty.\n",
      "  if diff:\n",
      "/home/ibbzy/anaconda2/lib/python2.7/site-packages/sklearn/preprocessing/label.py:151: DeprecationWarning: The truth value of an empty array is ambiguous. Returning False, but in future this will result in an error. Use `array.size > 0` to check that an array is not empty.\n",
      "  if diff:\n",
      "/home/ibbzy/anaconda2/lib/python2.7/site-packages/sklearn/preprocessing/label.py:151: DeprecationWarning: The truth value of an empty array is ambiguous. Returning False, but in future this will result in an error. Use `array.size > 0` to check that an array is not empty.\n",
      "  if diff:\n",
      "/home/ibbzy/anaconda2/lib/python2.7/site-packages/sklearn/preprocessing/label.py:151: DeprecationWarning: The truth value of an empty array is ambiguous. Returning False, but in future this will result in an error. Use `array.size > 0` to check that an array is not empty.\n",
      "  if diff:\n"
     ]
    },
    {
     "name": "stdout",
     "output_type": "stream",
     "text": [
      "precision for xgboost: 0.752595905661\n",
      "precision for logistic regression: 0.757295915133\n",
      "Recall for xgboost: 0.652591383979\n",
      "Recall for logistic regression: 0.612261983069\n",
      "AUC for xgboost: 0.705707371957\n",
      "AUC for logistic regression: 0.695832990055\n"
     ]
    }
   ],
   "source": [
    "def train(X,y):\n",
    "    XX = X.as_matrix()\n",
    "    stratified_k_fold = cross_validation.StratifiedKFold(y, n_folds=10, shuffle=True)\n",
    "    y = y.replace(2,0)\n",
    "    y_pred1 = y.copy()\n",
    "    y_pred2 = y.copy()\n",
    "\n",
    "\n",
    "\n",
    "\n",
    "    for ii, jj in stratified_k_fold:\n",
    "        X_train, X_test = XX[ii], XX[jj]\n",
    "        y_train = y[ii]\n",
    "\n",
    "        clf1 = xgb.XGBClassifier(max_depth=3, n_estimators=100, learning_rate=0.05)\n",
    "        clf2 = lm.LogisticRegression()\n",
    "\n",
    "\n",
    "        clf1.fit(X_train,y_train)\n",
    "        y_pred1[jj] = clf1.predict(X_test)\n",
    "        clf2.fit(X_train,y_train)\n",
    "        y_pred2[jj] = clf2.predict(X_test)\n",
    "\n",
    "\n",
    "    # Metrics\n",
    "    #fpr, tpr, thresholds = metrics.roc_curve(y, y_pred, pos_label=2)\n",
    "\n",
    "    print \"precision for xgboost: {}\".format(metrics.precision_score(y,y_pred1))\n",
    "    print \"precision for logistic regression: {}\".format(metrics.precision_score(y,y_pred2))\n",
    "    print \"Recall for xgboost: {}\".format(metrics.recall_score(y,y_pred1))\n",
    "    print \"Recall for logistic regression: {}\".format(metrics.recall_score(y,y_pred2))\n",
    "    print \"AUC for xgboost: {}\".format(metrics.roc_auc_score(y, y_pred1))\n",
    "    print \"AUC for logistic regression: {}\".format(metrics.roc_auc_score(y, y_pred2))\n",
    "\n",
    "    return clf1,clf2\n",
    "\n",
    "xgb,logreg = train(X,y)"
   ]
  },
  {
   "cell_type": "code",
   "execution_count": 49,
   "metadata": {},
   "outputs": [
    {
     "name": "stdout",
     "output_type": "stream",
     "text": [
      "[0 1 1 ... 0 1 1]\n",
      "[0 1 1 ... 1 1 1]\n"
     ]
    },
    {
     "name": "stderr",
     "output_type": "stream",
     "text": [
      "/home/ibbzy/anaconda2/lib/python2.7/site-packages/sklearn/preprocessing/label.py:151: DeprecationWarning: The truth value of an empty array is ambiguous. Returning False, but in future this will result in an error. Use `array.size > 0` to check that an array is not empty.\n",
      "  if diff:\n"
     ]
    }
   ],
   "source": [
    "#predictions\n",
    "Xh.columns = ['f0', 'f1', 'f2', 'f3', 'f4', 'f5', 'f6', 'f7', 'f8']\n",
    "print logreg.predict(Xh)\n",
    "print xgb.predict(Xh)\n"
   ]
  },
  {
   "cell_type": "code",
   "execution_count": null,
   "metadata": {
    "collapsed": true
   },
   "outputs": [],
   "source": []
  }
 ],
 "metadata": {
  "kernelspec": {
   "display_name": "Python 2",
   "language": "python",
   "name": "python2"
  },
  "language_info": {
   "codemirror_mode": {
    "name": "ipython",
    "version": 2
   },
   "file_extension": ".py",
   "mimetype": "text/x-python",
   "name": "python",
   "nbconvert_exporter": "python",
   "pygments_lexer": "ipython2",
   "version": "2.7.14"
  }
 },
 "nbformat": 4,
 "nbformat_minor": 2
}
