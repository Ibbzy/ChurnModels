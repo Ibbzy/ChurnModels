{
 "cells": [
  {
   "cell_type": "code",
   "execution_count": 35,
   "metadata": {
    "collapsed": true
   },
   "outputs": [],
   "source": [
    "# Ibrahim Said\n",
    "\n",
    "# ASOS - Churn Modelling\n",
    "\n",
    "# import pandas and numpy\n",
    "import numpy as np\n",
    "import pandas as pd\n",
    "\n",
    "# import models from sci-kit learn\n",
    "from sklearn.linear_model import LogisticRegression\n",
    "from sklearn import tree\n",
    "from sklearn.ensemble import RandomForestClassifier\n",
    "\n",
    "    "
   ]
  },
  {
   "cell_type": "code",
   "execution_count": 36,
   "metadata": {
    "collapsed": true
   },
   "outputs": [],
   "source": [
    "# Part I - ETL - Data processing\n",
    "# Defining headers\n",
    "# Clarification: cus = customer, rec = receipt, ret = return \n",
    "\n",
    "cusHeader = [\"customerId\",\"gender\",\"shippingCountry\",\"dateCreated\",\"yearOfBirth\",\"premier\",\"churnlabel\"]\n",
    "recHeader = [\"customerId\",\"productId\",\"divisionId\",\"discountDesc\",\"itemQty\",\"signalDate\",\"receiptId\",\"price\"]\n",
    "retHeader = [\"customerId\",\"productId\",\"divisionId\",\"itemQty\",\"returnsDate\",\"receiptId\",\"returnId\",\"returnAction\",\"returnReason\"]\n",
    "\n",
    "\n",
    "# Reading training datasets\n",
    "cusData = pd.read_csv(\"train/customer.txt\", sep='\\t', lineterminator='\\n',names=cusHeader)\n",
    "recData = pd.read_csv(\"train/receipts.txt\", sep='\\t', lineterminator='\\n',names=recHeader)\n",
    "retData = pd.read_csv(\"train/returns.txt\", sep='\\t', lineterminator='\\n',names=retHeader)\n",
    "\n",
    "# Parsing Dates\n",
    "cusData[\"dateCreated\"] = pd.to_datetime(cusData[\"dateCreated\"])\n",
    "retData[\"returnsDate\"] = pd.to_datetime(retData[\"returnsDate\"])\n",
    "\n"
   ]
  },
  {
   "cell_type": "code",
   "execution_count": 37,
   "metadata": {
    "collapsed": true
   },
   "outputs": [],
   "source": [
    "# number of purchases and number of returns and total sales(excluding returns atm) is calculated for each customer. \n",
    "\n",
    "\n",
    "recCount = recData[[\"customerId\",\"productId\"]].groupby(\"customerId\").agg(\"count\")\n",
    "recSum = recData[[\"customerId\",\"productId\"]].groupby(\"customerId\").agg(\"sum\")\n",
    "\n",
    "retCount = retData[[\"customerId\",\"productId\"]].groupby(\"customerId\").agg(\"count\")\n",
    "\n",
    "\n",
    "recCount[\"customerId\"] = recGroup.index\n",
    "recSum[\"customerId\"] = recGroup.index\n",
    "retCount[\"customerId\"] = retGroup.index\n",
    "\n",
    "# Add column with purchase count to customer dataframe\n",
    "cusData = pd.merge(cusData,recCount,on=\"customerId\")\n",
    "cusData = pd.merge(cusData,recSum,on=\"customerId\")\n",
    "cusData = pd.merge(cusData,retCount,how=\"left\",on=\"customerId\")\n",
    "\n",
    "new_columns = cusData.columns.values\n",
    "new_columns[-3] = 'NoPurchases'\n",
    "new_columns[-2] = 'sales'\n",
    "new_columns[-1] = 'NoReturns'\n",
    "cusData.columns = new_columns\n",
    "\n",
    "cusData[\"NoReturns\"] = cusData[\"NoReturns\"].fillna(0)\n"
   ]
  }
 ],
 "metadata": {
  "kernelspec": {
   "display_name": "Python 2",
   "language": "python",
   "name": "python2"
  },
  "language_info": {
   "codemirror_mode": {
    "name": "ipython",
    "version": 2
   },
   "file_extension": ".py",
   "mimetype": "text/x-python",
   "name": "python",
   "nbconvert_exporter": "python",
   "pygments_lexer": "ipython2",
   "version": "2.7.14"
  }
 },
 "nbformat": 4,
 "nbformat_minor": 2
}
