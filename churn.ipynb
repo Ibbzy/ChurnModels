{
 "cells": [
  {
   "cell_type": "code",
   "execution_count": null,
   "metadata": {},
   "outputs": [],
   "source": [
    "# Ibrahim Said\n",
    "\n",
    "# ASOS - Churn Modelling\n",
    "\n",
    "# import pandas and numpy\n",
    "import numpy as np\n",
    "import pandas as pd\n",
    "import os\n",
    "\n",
    "# import models from sci-kit learn\n",
    "from sklearn import cross_validation\n",
    "from sklearn import tree\n",
    "from sklearn import linear_model as lm\n",
    "from sklearn import metrics\n",
    "from sklearn import preprocessing\n",
    "from sklearn.ensemble import RandomForestClassifier\n",
    "    "
   ]
  },
  {
   "cell_type": "code",
   "execution_count": null,
   "metadata": {
    "collapsed": true
   },
   "outputs": [],
   "source": [
    "# Part I - ETL - Data processing\n",
    "# Clarification: cus = customer, rec = receipt, ret = return\n",
    "\n",
    "# Defining headers\n",
    "cusHeader = [\"customerId\",\"gender\",\"shippingCountry\",\"dateCreated\",\"yearOfBirth\",\"premier\",\"churn\"]\n",
    "recHeader = [\"customerId\",\"productId\",\"divisionId\",\"discountDesc\",\"itemQty\",\"signalDate\",\"receiptId\",\"price\"]\n",
    "retHeader = [\"customerId\",\"productId\",\"divisionId\",\"itemQty\",\"returnsDate\",\"receiptId\",\"returnId\",\"returnAction\",\"returnReason\"]\n",
    "\n",
    "\n",
    "# Reading training datasets\n",
    "cusData = pd.read_csv(\"train/customer.txt\", sep='\\t', lineterminator='\\n',names=cusHeader)\n",
    "recData = pd.read_csv(\"train/receipts.txt\", sep='\\t', lineterminator='\\n',names=recHeader)\n",
    "retData = pd.read_csv(\"train/returns.txt\", sep='\\t', lineterminator='\\n',names=retHeader)\n",
    "\n",
    "\n",
    "# Encoding country names and gender as unique integers\n",
    "encoder = preprocessing.LabelEncoder()\n",
    "cusData[\"shippingCountry\"] = encoder.fit_transform(cusData[\"shippingCountry\"])\n",
    "cusData[\"gender\"] = encoder.fit_transform(cusData[\"gender\"])\n",
    "\n",
    "# Parsing dates\n",
    "cusData[\"dateCreated\"] = pd.to_datetime(cusData[\"dateCreated\"])\n",
    "retData[\"returnsDate\"] = pd.to_datetime(retData[\"returnsDate\"])\n",
    "\n"
   ]
  },
  {
   "cell_type": "code",
   "execution_count": null,
   "metadata": {},
   "outputs": [],
   "source": [
    "# Number of purchases and number of returns and total sales(excluding returns atm) is calculated for each customer.\n",
    "\n",
    "recCount = recData[[\"customerId\",\"productId\"]].groupby(\"customerId\").agg(\"count\")\n",
    "recSum = recData[[\"customerId\",\"productId\"]].groupby(\"customerId\").agg(\"sum\")\n",
    "retCount = retData[[\"customerId\",\"productId\"]].groupby(\"customerId\").agg(\"count\")\n",
    "\n",
    "recCount[\"customerId\"] = recCount.index\n",
    "recSum[\"customerId\"] = recSum.index\n",
    "retCount[\"customerId\"] = retCount.index\n",
    "\n",
    "#Adding columns receipt count, receipt sum and return count\n",
    "cusData = pd.merge(cusData,recCount,on=\"customerId\")\n",
    "cusData = pd.merge(cusData,recSum,on=\"customerId\")\n",
    "cusData = pd.merge(cusData,retCount,how=\"left\",on=\"customerId\")\n",
    "\n",
    "#re-labling columns\n",
    "new_columns = cusData.columns.values\n",
    "new_columns[-3] = 'NoPurchases'\n",
    "new_columns[-2] = 'sales'\n",
    "new_columns[-1] = 'NoReturns'\n",
    "cusData.columns = new_columns\n",
    "cusData[\"NoReturns\"] = cusData[\"NoReturns\"].fillna(0)\n",
    "\n",
    "X = cusData.copy()\n",
    "y = X.churn\n",
    "# Dropping columns which will not be used\n",
    "X.drop([\"customerId\",\"dateCreated\", \"churn\"],axis=1,inplace=True)"
   ]
  },
  {
   "cell_type": "code",
   "execution_count": null,
   "metadata": {},
   "outputs": [],
   "source": [
    "# Creating a simple linear regression model\n",
    "\n",
    "lr = lm.LinearRegression()\n",
    "model = lr.fit(X,y)\n",
    "XX = X.as_matrix()\n",
    "stratified_k_fold = cross_validation.StratifiedKFold(y, n_folds=10, shuffle=True)\n",
    "y =y.replace(2,0)\n",
    "y_pred = y.copy()\n",
    "\n",
    "for ii, jj in stratified_k_fold:\n",
    "    X_train, X_test = XX[ii], XX[jj]\n",
    "    y_train = y[ii]\n",
    "    clf = RandomForestClassifier(max_depth=2, random_state=0)\n",
    "    clf.fit(X_train,y_train)\n",
    "    y_pred[jj] = clf.predict(X_test)\n",
    "\n"
   ]
  },
  {
   "cell_type": "code",
   "execution_count": null,
   "metadata": {},
   "outputs": [],
   "source": [
    "# Metrics    \n",
    "fpr, tpr, thresholds = metrics.roc_curve(y, y_pred, pos_label=2)\n",
    "print \"Accuracy: {}\".format(metrics.accuracy_score(y,y_pred))\n",
    "print \"Recall: {}\".format(metrics.recall_score(y,y_pred))\n",
    "print \"AUC: {}\".format(metrics.roc_auc_score(y, y_pred))"
   ]
  }
 ],
 "metadata": {
  "kernelspec": {
   "display_name": "Python 2",
   "language": "python",
   "name": "python2"
  },
  "language_info": {
   "codemirror_mode": {
    "name": "ipython",
    "version": 2
   },
   "file_extension": ".py",
   "mimetype": "text/x-python",
   "name": "python",
   "nbconvert_exporter": "python",
   "pygments_lexer": "ipython2",
   "version": "2.7.14"
  }
 },
 "nbformat": 4,
 "nbformat_minor": 2
}
